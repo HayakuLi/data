{
 "cells": [
  {
   "cell_type": "code",
   "execution_count": 1,
   "metadata": {
    "collapsed": false
   },
   "outputs": [
    {
     "data": {
      "application/javascript": [
       "IPython.notebook.set_autosave_interval(180000)"
      ]
     },
     "metadata": {},
     "output_type": "display_data"
    },
    {
     "name": "stdout",
     "output_type": "stream",
     "text": [
      "Autosaving every 180 seconds\n"
     ]
    }
   ],
   "source": [
    "%autosave 180"
   ]
  },
  {
   "cell_type": "code",
   "execution_count": 2,
   "metadata": {
    "collapsed": false
   },
   "outputs": [],
   "source": [
    "import numpy as np\n",
    "import matplotlib.pyplot as plt\n",
    "import seaborn\n",
    "import pandas as pd\n",
    "%matplotlib inline"
   ]
  },
  {
   "cell_type": "code",
   "execution_count": 51,
   "metadata": {
    "collapsed": false
   },
   "outputs": [],
   "source": [
    "table = pd.read_csv('river_banfield.csv', sep= ';', index_col = 0)"
   ]
  },
  {
   "cell_type": "code",
   "execution_count": 52,
   "metadata": {
    "collapsed": false
   },
   "outputs": [
    {
     "data": {
      "text/html": [
       "<div>\n",
       "<table border=\"1\" class=\"dataframe\">\n",
       "  <thead>\n",
       "    <tr style=\"text-align: right;\">\n",
       "      <th></th>\n",
       "      <th>nombre_apellido</th>\n",
       "      <th>x_promedio</th>\n",
       "      <th>y_promedio</th>\n",
       "      <th>pases</th>\n",
       "      <th>3066</th>\n",
       "      <th>87508</th>\n",
       "      <th>100761</th>\n",
       "      <th>57549</th>\n",
       "      <th>1118</th>\n",
       "      <th>17159</th>\n",
       "      <th>100769</th>\n",
       "      <th>51413</th>\n",
       "      <th>25962</th>\n",
       "      <th>3436</th>\n",
       "      <th>54702</th>\n",
       "      <th>xg</th>\n",
       "    </tr>\n",
       "    <tr>\n",
       "      <th>id_persona</th>\n",
       "      <th></th>\n",
       "      <th></th>\n",
       "      <th></th>\n",
       "      <th></th>\n",
       "      <th></th>\n",
       "      <th></th>\n",
       "      <th></th>\n",
       "      <th></th>\n",
       "      <th></th>\n",
       "      <th></th>\n",
       "      <th></th>\n",
       "      <th></th>\n",
       "      <th></th>\n",
       "      <th></th>\n",
       "      <th></th>\n",
       "      <th></th>\n",
       "    </tr>\n",
       "  </thead>\n",
       "  <tbody>\n",
       "    <tr>\n",
       "      <th>3066</th>\n",
       "      <td>Barovero</td>\n",
       "      <td>19.7</td>\n",
       "      <td>3.9</td>\n",
       "      <td>4</td>\n",
       "      <td>0</td>\n",
       "      <td>1</td>\n",
       "      <td>0</td>\n",
       "      <td>0</td>\n",
       "      <td>1</td>\n",
       "      <td>0</td>\n",
       "      <td>0</td>\n",
       "      <td>2</td>\n",
       "      <td>0</td>\n",
       "      <td>0</td>\n",
       "      <td>0</td>\n",
       "      <td>0.00</td>\n",
       "    </tr>\n",
       "    <tr>\n",
       "      <th>87508</th>\n",
       "      <td>Balanta</td>\n",
       "      <td>38.4</td>\n",
       "      <td>-12.0</td>\n",
       "      <td>33</td>\n",
       "      <td>1</td>\n",
       "      <td>0</td>\n",
       "      <td>2</td>\n",
       "      <td>4</td>\n",
       "      <td>9</td>\n",
       "      <td>4</td>\n",
       "      <td>5</td>\n",
       "      <td>1</td>\n",
       "      <td>2</td>\n",
       "      <td>4</td>\n",
       "      <td>0</td>\n",
       "      <td>0.30</td>\n",
       "    </tr>\n",
       "    <tr>\n",
       "      <th>100761</th>\n",
       "      <td>Mammana</td>\n",
       "      <td>42.5</td>\n",
       "      <td>14.1</td>\n",
       "      <td>18</td>\n",
       "      <td>0</td>\n",
       "      <td>3</td>\n",
       "      <td>0</td>\n",
       "      <td>1</td>\n",
       "      <td>3</td>\n",
       "      <td>4</td>\n",
       "      <td>0</td>\n",
       "      <td>6</td>\n",
       "      <td>0</td>\n",
       "      <td>0</td>\n",
       "      <td>1</td>\n",
       "      <td>0.00</td>\n",
       "    </tr>\n",
       "    <tr>\n",
       "      <th>57549</th>\n",
       "      <td>Domingo</td>\n",
       "      <td>52.7</td>\n",
       "      <td>-1.0</td>\n",
       "      <td>45</td>\n",
       "      <td>0</td>\n",
       "      <td>6</td>\n",
       "      <td>1</td>\n",
       "      <td>0</td>\n",
       "      <td>4</td>\n",
       "      <td>10</td>\n",
       "      <td>2</td>\n",
       "      <td>7</td>\n",
       "      <td>1</td>\n",
       "      <td>6</td>\n",
       "      <td>5</td>\n",
       "      <td>0.00</td>\n",
       "    </tr>\n",
       "    <tr>\n",
       "      <th>1118</th>\n",
       "      <td>Ponzio</td>\n",
       "      <td>54.9</td>\n",
       "      <td>7.6</td>\n",
       "      <td>35</td>\n",
       "      <td>2</td>\n",
       "      <td>1</td>\n",
       "      <td>1</td>\n",
       "      <td>1</td>\n",
       "      <td>0</td>\n",
       "      <td>4</td>\n",
       "      <td>1</td>\n",
       "      <td>16</td>\n",
       "      <td>0</td>\n",
       "      <td>5</td>\n",
       "      <td>1</td>\n",
       "      <td>0.14</td>\n",
       "    </tr>\n",
       "    <tr>\n",
       "      <th>17159</th>\n",
       "      <td>Vangioni</td>\n",
       "      <td>58.5</td>\n",
       "      <td>-22.2</td>\n",
       "      <td>31</td>\n",
       "      <td>0</td>\n",
       "      <td>7</td>\n",
       "      <td>0</td>\n",
       "      <td>3</td>\n",
       "      <td>3</td>\n",
       "      <td>0</td>\n",
       "      <td>3</td>\n",
       "      <td>0</td>\n",
       "      <td>4</td>\n",
       "      <td>3</td>\n",
       "      <td>1</td>\n",
       "      <td>0.09</td>\n",
       "    </tr>\n",
       "    <tr>\n",
       "      <th>100769</th>\n",
       "      <td>Driussi</td>\n",
       "      <td>68.1</td>\n",
       "      <td>-2.5</td>\n",
       "      <td>20</td>\n",
       "      <td>0</td>\n",
       "      <td>0</td>\n",
       "      <td>1</td>\n",
       "      <td>3</td>\n",
       "      <td>1</td>\n",
       "      <td>3</td>\n",
       "      <td>0</td>\n",
       "      <td>6</td>\n",
       "      <td>2</td>\n",
       "      <td>3</td>\n",
       "      <td>0</td>\n",
       "      <td>0.67</td>\n",
       "    </tr>\n",
       "    <tr>\n",
       "      <th>51413</th>\n",
       "      <td>Mayada</td>\n",
       "      <td>70.4</td>\n",
       "      <td>21.4</td>\n",
       "      <td>51</td>\n",
       "      <td>0</td>\n",
       "      <td>0</td>\n",
       "      <td>3</td>\n",
       "      <td>9</td>\n",
       "      <td>6</td>\n",
       "      <td>0</td>\n",
       "      <td>5</td>\n",
       "      <td>0</td>\n",
       "      <td>2</td>\n",
       "      <td>15</td>\n",
       "      <td>5</td>\n",
       "      <td>0.25</td>\n",
       "    </tr>\n",
       "    <tr>\n",
       "      <th>25962</th>\n",
       "      <td>Alonso</td>\n",
       "      <td>74.5</td>\n",
       "      <td>-3.5</td>\n",
       "      <td>12</td>\n",
       "      <td>0</td>\n",
       "      <td>0</td>\n",
       "      <td>0</td>\n",
       "      <td>2</td>\n",
       "      <td>1</td>\n",
       "      <td>1</td>\n",
       "      <td>0</td>\n",
       "      <td>2</td>\n",
       "      <td>0</td>\n",
       "      <td>3</td>\n",
       "      <td>0</td>\n",
       "      <td>0.50</td>\n",
       "    </tr>\n",
       "    <tr>\n",
       "      <th>3436</th>\n",
       "      <td>D'Alessandro</td>\n",
       "      <td>78.8</td>\n",
       "      <td>9.0</td>\n",
       "      <td>35</td>\n",
       "      <td>0</td>\n",
       "      <td>0</td>\n",
       "      <td>1</td>\n",
       "      <td>5</td>\n",
       "      <td>4</td>\n",
       "      <td>3</td>\n",
       "      <td>5</td>\n",
       "      <td>7</td>\n",
       "      <td>2</td>\n",
       "      <td>0</td>\n",
       "      <td>6</td>\n",
       "      <td>0.32</td>\n",
       "    </tr>\n",
       "    <tr>\n",
       "      <th>54702</th>\n",
       "      <td>Mora</td>\n",
       "      <td>91.5</td>\n",
       "      <td>7.7</td>\n",
       "      <td>6</td>\n",
       "      <td>0</td>\n",
       "      <td>1</td>\n",
       "      <td>0</td>\n",
       "      <td>0</td>\n",
       "      <td>0</td>\n",
       "      <td>0</td>\n",
       "      <td>1</td>\n",
       "      <td>1</td>\n",
       "      <td>2</td>\n",
       "      <td>1</td>\n",
       "      <td>0</td>\n",
       "      <td>1.01</td>\n",
       "    </tr>\n",
       "  </tbody>\n",
       "</table>\n",
       "</div>"
      ],
      "text/plain": [
       "           nombre_apellido  x_promedio  y_promedio  pases  3066  87508  \\\n",
       "id_persona                                                               \n",
       "3066              Barovero        19.7         3.9      4     0      1   \n",
       "87508              Balanta        38.4       -12.0     33     1      0   \n",
       "100761             Mammana        42.5        14.1     18     0      3   \n",
       "57549              Domingo        52.7        -1.0     45     0      6   \n",
       "1118                Ponzio        54.9         7.6     35     2      1   \n",
       "17159             Vangioni        58.5       -22.2     31     0      7   \n",
       "100769             Driussi        68.1        -2.5     20     0      0   \n",
       "51413               Mayada        70.4        21.4     51     0      0   \n",
       "25962               Alonso        74.5        -3.5     12     0      0   \n",
       "3436          D'Alessandro        78.8         9.0     35     0      0   \n",
       "54702                 Mora        91.5         7.7      6     0      1   \n",
       "\n",
       "            100761  57549  1118  17159  100769  51413  25962  3436  54702  \\\n",
       "id_persona                                                                  \n",
       "3066             0      0     1      0       0      2      0     0      0   \n",
       "87508            2      4     9      4       5      1      2     4      0   \n",
       "100761           0      1     3      4       0      6      0     0      1   \n",
       "57549            1      0     4     10       2      7      1     6      5   \n",
       "1118             1      1     0      4       1     16      0     5      1   \n",
       "17159            0      3     3      0       3      0      4     3      1   \n",
       "100769           1      3     1      3       0      6      2     3      0   \n",
       "51413            3      9     6      0       5      0      2    15      5   \n",
       "25962            0      2     1      1       0      2      0     3      0   \n",
       "3436             1      5     4      3       5      7      2     0      6   \n",
       "54702            0      0     0      0       1      1      2     1      0   \n",
       "\n",
       "              xg  \n",
       "id_persona        \n",
       "3066        0.00  \n",
       "87508       0.30  \n",
       "100761      0.00  \n",
       "57549       0.00  \n",
       "1118        0.14  \n",
       "17159       0.09  \n",
       "100769      0.67  \n",
       "51413       0.25  \n",
       "25962       0.50  \n",
       "3436        0.32  \n",
       "54702       1.01  "
      ]
     },
     "execution_count": 52,
     "metadata": {},
     "output_type": "execute_result"
    }
   ],
   "source": [
    "table.head(11)"
   ]
  },
  {
   "cell_type": "code",
   "execution_count": 53,
   "metadata": {
    "collapsed": false
   },
   "outputs": [],
   "source": [
    "players = table['nombre_apellido'].tolist()\n",
    "x = table['y_promedio'].tolist()\n",
    "y = table['x_promedio'].tolist()\n",
    "touches_raw = table['pases'].tolist()\n",
    "suma_xg = table['xg'].sum()\n",
    "alphas = table['xg'] / suma_xg + 0.5"
   ]
  },
  {
   "cell_type": "code",
   "execution_count": 54,
   "metadata": {
    "collapsed": true
   },
   "outputs": [],
   "source": [
    "touches = []\n",
    "for item in touches_raw:\n",
    "    size = 20*item\n",
    "    touches.append(size)"
   ]
  },
  {
   "cell_type": "code",
   "execution_count": 55,
   "metadata": {
    "collapsed": false
   },
   "outputs": [],
   "source": [
    "passes = {}\n",
    "for row in table.iterrows():\n",
    "    index, data = row\n",
    "    temp = []\n",
    "    player = data[0]\n",
    "    for n in range (4, len(data)-1):\n",
    "        temp.append(data[n])\n",
    "    passes[player] = temp"
   ]
  },
  {
   "cell_type": "code",
   "execution_count": 61,
   "metadata": {
    "collapsed": true
   },
   "outputs": [],
   "source": [
    "#real field boundaries\n",
    "x_boundaries = [-35, 35]\n",
    "y_boundaries = [0, 110]\n",
    "x_small_area = [-8, 8]\n",
    "x_big_area = [17.5, -17.5]\n",
    "y_small_area = [5, 105]\n",
    "y_big_area = [16, 94]"
   ]
  },
  {
   "cell_type": "code",
   "execution_count": 56,
   "metadata": {
    "collapsed": true
   },
   "outputs": [],
   "source": [
    "#custom field boundaries\n",
    "x_boundaries = [-28, 28]\n",
    "y_boundaries = [0, 92]\n",
    "x_small_area = [-8, 8]\n",
    "x_big_area = [17.5, -17.5]\n",
    "y_small_area = [5, 105]\n",
    "y_big_area = [16, 94]"
   ]
  },
  {
   "cell_type": "code",
   "execution_count": 57,
   "metadata": {
    "collapsed": true
   },
   "outputs": [],
   "source": [
    "def get_football_field(x_boundaries, y_boundaries, x_small_area, x_big_area,\n",
    "                        y_small_area, y_big_area):\n",
    "    # Left & Right boundaries\n",
    "    for x in x_boundaries:\n",
    "        plt.plot([x, x], [y_boundaries[0], y_boundaries[1]], color='k', lw=2)\n",
    "    for y in y_boundaries:\n",
    "        plt.plot([x_boundaries[0], x_boundaries[1]], [y, y], color='k', lw=2)\n",
    "    # Half\n",
    "    y_half = (y_boundaries[0] + y_boundaries[1]) / 2\n",
    "    plt.plot([x_boundaries[0], x_boundaries[1]], [y_half, y_half], color='k', lw=2)\n",
    "    # Small Area\n",
    "    for x in x_small_area:\n",
    "        plt.plot([x, x], [y_boundaries[0], y_small_area[0]], color='k', lw=2)\n",
    "        plt.plot([x, x], [y_boundaries[1], y_small_area[1]], color='k', lw=2)\n",
    "    for y in y_small_area:\n",
    "        plt.plot([x_small_area[0], x_small_area[1]], [y, y], color='k', lw=2)\n",
    "    # Big Area\n",
    "    for x in x_big_area:\n",
    "        plt.plot([x, x], [y_boundaries[0], y_big_area[0]], color='k', lw=2)\n",
    "        plt.plot([x, x], [y_boundaries[1], y_big_area[1]], color='k', lw=2)\n",
    "    for y in y_big_area:\n",
    "        plt.plot([x_big_area[0], x_big_area[1]], [y, y], color='k', lw=2)"
   ]
  },
  {
   "cell_type": "code",
   "execution_count": 48,
   "metadata": {
    "collapsed": true
   },
   "outputs": [],
   "source": [
    "#river_valle\n",
    "correction = []\n",
    "for player in players:\n",
    "    if player == 'Alonso':\n",
    "        correction.append(8.5)\n",
    "    elif player == 'Mayada':\n",
    "        correction.append(9)\n",
    "    elif player == 'Mora':\n",
    "        correction.append(2)\n",
    "    elif player == 'Barovero':\n",
    "        correction.append(8)\n",
    "    else:\n",
    "        correction.append(0)"
   ]
  },
  {
   "cell_type": "code",
   "execution_count": 33,
   "metadata": {
    "collapsed": true
   },
   "outputs": [],
   "source": [
    "#river_velez\n",
    "correction = []\n",
    "for player in players:\n",
    "    if player == 'Bertolo':\n",
    "        correction.append(8.5)\n",
    "    elif player == 'Pisculichi':\n",
    "        correction.append(9)\n",
    "    elif player == 'Martinez':\n",
    "        correction.append(9)\n",
    "    elif player == 'Alario':\n",
    "        correction.append(1)\n",
    "    else:\n",
    "        correction.append(0)"
   ]
  },
  {
   "cell_type": "code",
   "execution_count": 58,
   "metadata": {
    "collapsed": false
   },
   "outputs": [],
   "source": [
    "#river_banfield\n",
    "correction = []\n",
    "for player in players:\n",
    "    if player == 'Mayada':\n",
    "        correction.append(10)\n",
    "    elif player == \"D'Alessandro\":\n",
    "        correction.append(9)\n",
    "    elif player == 'Mora':\n",
    "        correction.append(2)\n",
    "    elif player == 'Alonso':\n",
    "        correction.append(8)\n",
    "    elif player == 'Barovero':\n",
    "        correction.append(3)\n",
    "    else:\n",
    "        correction.append(0)"
   ]
  },
  {
   "cell_type": "code",
   "execution_count": 59,
   "metadata": {
    "collapsed": false
   },
   "outputs": [],
   "source": [
    "rgba_colors = np.zeros((11,4))\n",
    "# for red the first column needs to be one\n",
    "rgba_colors[:,0] = 1.0\n",
    "# the fourth column needs to be your alphas\n",
    "rgba_colors[:, 3] = alphas"
   ]
  },
  {
   "cell_type": "code",
   "execution_count": 62,
   "metadata": {
    "collapsed": false
   },
   "outputs": [
    {
     "data": {
      "text/plain": [
       "(-40.0, 40.0, -20.0, 120.0)"
      ]
     },
     "execution_count": 62,
     "metadata": {},
     "output_type": "execute_result"
    },
    {
     "data": {
      "image/png": "[encoded data removed]",
      "text/plain": [
       "<matplotlib.figure.Figure at 0x11cdc4f60>"
      ]
     },
     "metadata": {},
     "output_type": "display_data"
    }
   ],
   "source": [
    "fig, ax = plt.subplots(figsize=(12,12))\n",
    "ax.scatter(x, y, s = touches, color=rgba_colors)\n",
    "ax.set_axis_bgcolor('0.97')\n",
    "get_football_field(x_boundaries, y_boundaries, x_small_area, x_big_area,\n",
    "                        y_small_area, y_big_area)\n",
    "#ax.annotate('Partido de Vuelta 8vos de Final Copa Libertadores 2016', xy=(0, 117), size = 13, ha=\"center\", weight='bold')\n",
    "#ax.annotate('Líneas: pases. Grosor y oscuridad indica cantidad de pases', xy=(-17, 89), size = 10, ha=\"center\", color='0.3')\n",
    "#ax.annotate('Tamaño del Círculo: pases totales completados', xy=(-17, 86), size = 10, ha=\"center\", color='0.3')\n",
    "#ax.annotate('Posición del Círculo: posición promedio', xy=(-17, 83), size = 10, ha=\"center\", color='0.3')\n",
    "#ax.annotate('Líneas para 5+ passes', xy=(-17, 80), size = 10, ha=\"center\", color='0.3')\n",
    "#ax.annotate('Solamente jugadores titulares', xy=(-17, 77), size = 10, ha=\"center\", color='0.3')\n",
    "#plt.title('River vs Independiente del Valle', fontsize=16, weight='bold')\n",
    "for i, player in enumerate(players):\n",
    "    ax.annotate(player, xy=(x[i], y[i]), xytext=(x[i], y[i]-5.5+correction[i]), size = 13, ha=\"center\")\n",
    "    for n in range(len(players)):\n",
    "        player_passes = passes[player][n]\n",
    "        width = player_passes/20\n",
    "        if player_passes == 0:\n",
    "            color = '0'\n",
    "        else:\n",
    "            color = str(2/player_passes)\n",
    "        if player_passes > 2: \n",
    "            x_start = x[i]\n",
    "            x_length = x[n] - x[i]\n",
    "            y_start = y[i]\n",
    "            y_length = y[n] - y[i]\n",
    "            if x_length > 0:\n",
    "                x_start = x[i] + 1\n",
    "                x_length = x[n] - x[i] - 1\n",
    "            else:\n",
    "                x_start = x[i] - 1\n",
    "                x_length = x[n] - x[i] + 1.5\n",
    "            if y_length > 0:\n",
    "                y_start = y[i] + 1.5\n",
    "                y_length = y[n] - y[i] - 2\n",
    "            else:\n",
    "                y_start = y[i] - 1.5\n",
    "                y_length = y[n] - y[i] + 2\n",
    "                \n",
    "            plt.arrow(x_start, y_start, x_length, y_length, \n",
    "            head_length=2, color=color, alpha=0.7, width=width,\n",
    "                            head_width=1.5, length_includes_head=True)\n",
    "ax.grid('off')\n",
    "ax.axis('off')"
   ]
  },
  {
   "cell_type": "code",
   "execution_count": null,
   "metadata": {
    "collapsed": true
   },
   "outputs": [],
   "source": []
  },
  {
   "cell_type": "code",
   "execution_count": null,
   "metadata": {
    "collapsed": true
   },
   "outputs": [],
   "source": []
  }
 ],
 "metadata": {
  "anaconda-cloud": {},
  "kernelspec": {
   "display_name": "Python [Root]",
   "language": "python",
   "name": "Python [Root]"
  },
  "language_info": {
   "codemirror_mode": {
    "name": "ipython",
    "version": 3
   },
   "file_extension": ".py",
   "mimetype": "text/x-python",
   "name": "python",
   "nbconvert_exporter": "python",
   "pygments_lexer": "ipython3",
   "version": "3.5.1"
  }
 },
 "nbformat": 4,
 "nbformat_minor": 0
}
